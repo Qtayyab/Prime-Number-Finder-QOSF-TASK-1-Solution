{
  "nbformat": 4,
  "nbformat_minor": 0,
  "metadata": {
    "colab": {
      "provenance": []
    },
    "kernelspec": {
      "name": "python3",
      "display_name": "Python 3"
    },
    "language_info": {
      "name": "python"
    }
  },
  "cells": [
    {
      "cell_type": "markdown",
      "source": [
        "# Task 1 find the primes numbers\n",
        "\n",
        "Given a positive integer and an list of prime numbers, look for the two prime numbers, that sum the positive number. Consider an appropriate number of qubits and explain why your proposal is valid for all kinds of numbers in case\n",
        "\n",
        "\n",
        "```\n",
        "def find_the_primes_numbers (int:number_1, list[int] ,number_2):\n",
        "   “””\n",
        " number_1 : integer value that is the positive number to decompose,\n",
        "number_2 : integer list that has two prime numbers to add to obtain number_1.\n",
        "Return the number_a and number_b\n",
        "     “””\n",
        "```\n",
        "\n",
        "\n",
        "\n",
        "     # use a framework that works with quantum circuits, qiskit, cirq, pennylane, etc.\n",
        "\n",
        "      # consider print your quantum circuit,\n",
        "\n"
      ],
      "metadata": {
        "id": "Y1vyjEAGKC0u"
      }
    },
    {
      "cell_type": "markdown",
      "source": [
        "# Solution :\n",
        "\n",
        "**Introduction**\n",
        "\n",
        "The quantum Fourier transform (QFT) is a quantum algorithm that performs a discrete Fourier transform on a quantum state. The QFT is a key component of many important quantum algorithms, including Shor's algorithm for factoring large numbers.\n",
        "\n",
        "In this notebook, we will show how to use the QFT to find the two prime numbers that sum to a given positive integer. We will also discuss why this algorithm is valid for all kinds of numbers."
      ],
      "metadata": {
        "id": "XTQ6NHLHM0Yb"
      }
    },
    {
      "cell_type": "markdown",
      "source": [
        "**Step 1:** Import Necessary Libraries\n",
        "\n",
        "We begin by importing the libraries we need for this problem."
      ],
      "metadata": {
        "id": "FIjgSpIkQLbI"
      }
    },
    {
      "cell_type": "code",
      "execution_count": 1,
      "metadata": {
        "colab": {
          "base_uri": "https://localhost:8080/"
        },
        "id": "B0Ia_CyASPKN",
        "outputId": "06246983-2e7d-4a6a-b970-47fc22aae8ee"
      },
      "outputs": [
        {
          "output_type": "stream",
          "name": "stdout",
          "text": [
            "Collecting qiskit\n",
            "  Downloading qiskit-0.44.2-py3-none-any.whl (8.2 kB)\n",
            "Collecting qiskit-terra==0.25.2.1 (from qiskit)\n",
            "  Downloading qiskit_terra-0.25.2.1-cp38-abi3-manylinux_2_17_x86_64.manylinux2014_x86_64.whl (6.2 MB)\n",
            "\u001b[2K     \u001b[90m━━━━━━━━━━━━━━━━━━━━━━━━━━━━━━━━━━━━━━━━\u001b[0m \u001b[32m6.2/6.2 MB\u001b[0m \u001b[31m14.4 MB/s\u001b[0m eta \u001b[36m0:00:00\u001b[0m\n",
            "\u001b[?25hCollecting rustworkx>=0.13.0 (from qiskit-terra==0.25.2.1->qiskit)\n",
            "  Downloading rustworkx-0.13.2-cp310-cp310-manylinux_2_17_x86_64.manylinux2014_x86_64.whl (2.0 MB)\n",
            "\u001b[2K     \u001b[90m━━━━━━━━━━━━━━━━━━━━━━━━━━━━━━━━━━━━━━━━\u001b[0m \u001b[32m2.0/2.0 MB\u001b[0m \u001b[31m36.5 MB/s\u001b[0m eta \u001b[36m0:00:00\u001b[0m\n",
            "\u001b[?25hRequirement already satisfied: numpy>=1.17 in /usr/local/lib/python3.10/dist-packages (from qiskit-terra==0.25.2.1->qiskit) (1.23.5)\n",
            "Collecting ply>=3.10 (from qiskit-terra==0.25.2.1->qiskit)\n",
            "  Downloading ply-3.11-py2.py3-none-any.whl (49 kB)\n",
            "\u001b[2K     \u001b[90m━━━━━━━━━━━━━━━━━━━━━━━━━━━━━━━━━━━━━━━━\u001b[0m \u001b[32m49.6/49.6 kB\u001b[0m \u001b[31m5.5 MB/s\u001b[0m eta \u001b[36m0:00:00\u001b[0m\n",
            "\u001b[?25hRequirement already satisfied: psutil>=5 in /usr/local/lib/python3.10/dist-packages (from qiskit-terra==0.25.2.1->qiskit) (5.9.5)\n",
            "Requirement already satisfied: scipy>=1.5 in /usr/local/lib/python3.10/dist-packages (from qiskit-terra==0.25.2.1->qiskit) (1.11.3)\n",
            "Requirement already satisfied: sympy>=1.3 in /usr/local/lib/python3.10/dist-packages (from qiskit-terra==0.25.2.1->qiskit) (1.12)\n",
            "Collecting dill>=0.3 (from qiskit-terra==0.25.2.1->qiskit)\n",
            "  Downloading dill-0.3.7-py3-none-any.whl (115 kB)\n",
            "\u001b[2K     \u001b[90m━━━━━━━━━━━━━━━━━━━━━━━━━━━━━━━━━━━━━━━━\u001b[0m \u001b[32m115.3/115.3 kB\u001b[0m \u001b[31m14.2 MB/s\u001b[0m eta \u001b[36m0:00:00\u001b[0m\n",
            "\u001b[?25hRequirement already satisfied: python-dateutil>=2.8.0 in /usr/local/lib/python3.10/dist-packages (from qiskit-terra==0.25.2.1->qiskit) (2.8.2)\n",
            "Collecting stevedore>=3.0.0 (from qiskit-terra==0.25.2.1->qiskit)\n",
            "  Downloading stevedore-5.1.0-py3-none-any.whl (49 kB)\n",
            "\u001b[2K     \u001b[90m━━━━━━━━━━━━━━━━━━━━━━━━━━━━━━━━━━━━━━━━\u001b[0m \u001b[32m49.6/49.6 kB\u001b[0m \u001b[31m5.3 MB/s\u001b[0m eta \u001b[36m0:00:00\u001b[0m\n",
            "\u001b[?25hCollecting symengine<0.10,>=0.9 (from qiskit-terra==0.25.2.1->qiskit)\n",
            "  Downloading symengine-0.9.2-cp310-cp310-manylinux2010_x86_64.whl (37.5 MB)\n",
            "\u001b[2K     \u001b[90m━━━━━━━━━━━━━━━━━━━━━━━━━━━━━━━━━━━━━━━━\u001b[0m \u001b[32m37.5/37.5 MB\u001b[0m \u001b[31m27.9 MB/s\u001b[0m eta \u001b[36m0:00:00\u001b[0m\n",
            "\u001b[?25hRequirement already satisfied: typing-extensions in /usr/local/lib/python3.10/dist-packages (from qiskit-terra==0.25.2.1->qiskit) (4.5.0)\n",
            "Requirement already satisfied: six>=1.5 in /usr/local/lib/python3.10/dist-packages (from python-dateutil>=2.8.0->qiskit-terra==0.25.2.1->qiskit) (1.16.0)\n",
            "Collecting pbr!=2.1.0,>=2.0.0 (from stevedore>=3.0.0->qiskit-terra==0.25.2.1->qiskit)\n",
            "  Downloading pbr-5.11.1-py2.py3-none-any.whl (112 kB)\n",
            "\u001b[2K     \u001b[90m━━━━━━━━━━━━━━━━━━━━━━━━━━━━━━━━━━━━━━━━\u001b[0m \u001b[32m112.7/112.7 kB\u001b[0m \u001b[31m14.7 MB/s\u001b[0m eta \u001b[36m0:00:00\u001b[0m\n",
            "\u001b[?25hRequirement already satisfied: mpmath>=0.19 in /usr/local/lib/python3.10/dist-packages (from sympy>=1.3->qiskit-terra==0.25.2.1->qiskit) (1.3.0)\n",
            "Installing collected packages: ply, symengine, rustworkx, pbr, dill, stevedore, qiskit-terra, qiskit\n",
            "Successfully installed dill-0.3.7 pbr-5.11.1 ply-3.11 qiskit-0.44.2 qiskit-terra-0.25.2.1 rustworkx-0.13.2 stevedore-5.1.0 symengine-0.9.2\n"
          ]
        }
      ],
      "source": [
        "!pip install qiskit"
      ]
    },
    {
      "cell_type": "code",
      "source": [
        "from qiskit import *\n",
        "from qiskit import QuantumCircuit, Aer, execute\n",
        "from qiskit.circuit.library import QFT\n",
        "from qiskit.quantum_info import Statevector"
      ],
      "metadata": {
        "id": "hBq3u11HfoTf"
      },
      "execution_count": 2,
      "outputs": []
    },
    {
      "cell_type": "code",
      "source": [
        "!pip install qiskit_aer"
      ],
      "metadata": {
        "colab": {
          "base_uri": "https://localhost:8080/"
        },
        "id": "XgZJqtsMgObe",
        "outputId": "33df5b20-5d7e-43ba-eb39-e0a5c90c3cc4"
      },
      "execution_count": 3,
      "outputs": [
        {
          "output_type": "stream",
          "name": "stdout",
          "text": [
            "Collecting qiskit_aer\n",
            "  Downloading qiskit_aer-0.12.2-cp310-cp310-manylinux_2_17_x86_64.manylinux2014_x86_64.whl (12.8 MB)\n",
            "\u001b[2K     \u001b[90m━━━━━━━━━━━━━━━━━━━━━━━━━━━━━━━━━━━━━━━━\u001b[0m \u001b[32m12.8/12.8 MB\u001b[0m \u001b[31m34.8 MB/s\u001b[0m eta \u001b[36m0:00:00\u001b[0m\n",
            "\u001b[?25hRequirement already satisfied: qiskit-terra>=0.21.0 in /usr/local/lib/python3.10/dist-packages (from qiskit_aer) (0.25.2.1)\n",
            "Requirement already satisfied: numpy>=1.16.3 in /usr/local/lib/python3.10/dist-packages (from qiskit_aer) (1.23.5)\n",
            "Requirement already satisfied: scipy>=1.0 in /usr/local/lib/python3.10/dist-packages (from qiskit_aer) (1.11.3)\n",
            "Requirement already satisfied: rustworkx>=0.13.0 in /usr/local/lib/python3.10/dist-packages (from qiskit-terra>=0.21.0->qiskit_aer) (0.13.2)\n",
            "Requirement already satisfied: ply>=3.10 in /usr/local/lib/python3.10/dist-packages (from qiskit-terra>=0.21.0->qiskit_aer) (3.11)\n",
            "Requirement already satisfied: psutil>=5 in /usr/local/lib/python3.10/dist-packages (from qiskit-terra>=0.21.0->qiskit_aer) (5.9.5)\n",
            "Requirement already satisfied: sympy>=1.3 in /usr/local/lib/python3.10/dist-packages (from qiskit-terra>=0.21.0->qiskit_aer) (1.12)\n",
            "Requirement already satisfied: dill>=0.3 in /usr/local/lib/python3.10/dist-packages (from qiskit-terra>=0.21.0->qiskit_aer) (0.3.7)\n",
            "Requirement already satisfied: python-dateutil>=2.8.0 in /usr/local/lib/python3.10/dist-packages (from qiskit-terra>=0.21.0->qiskit_aer) (2.8.2)\n",
            "Requirement already satisfied: stevedore>=3.0.0 in /usr/local/lib/python3.10/dist-packages (from qiskit-terra>=0.21.0->qiskit_aer) (5.1.0)\n",
            "Requirement already satisfied: symengine<0.10,>=0.9 in /usr/local/lib/python3.10/dist-packages (from qiskit-terra>=0.21.0->qiskit_aer) (0.9.2)\n",
            "Requirement already satisfied: typing-extensions in /usr/local/lib/python3.10/dist-packages (from qiskit-terra>=0.21.0->qiskit_aer) (4.5.0)\n",
            "Requirement already satisfied: six>=1.5 in /usr/local/lib/python3.10/dist-packages (from python-dateutil>=2.8.0->qiskit-terra>=0.21.0->qiskit_aer) (1.16.0)\n",
            "Requirement already satisfied: pbr!=2.1.0,>=2.0.0 in /usr/local/lib/python3.10/dist-packages (from stevedore>=3.0.0->qiskit-terra>=0.21.0->qiskit_aer) (5.11.1)\n",
            "Requirement already satisfied: mpmath>=0.19 in /usr/local/lib/python3.10/dist-packages (from sympy>=1.3->qiskit-terra>=0.21.0->qiskit_aer) (1.3.0)\n",
            "Installing collected packages: qiskit_aer\n",
            "Successfully installed qiskit_aer-0.12.2\n"
          ]
        }
      ]
    },
    {
      "cell_type": "markdown",
      "source": [
        " **Algorithm**\n",
        "\n",
        "The algorithm for finding the two prime numbers that sum to a given positive integer using the QFT is as follows:\n",
        "\n",
        "1- Determine the number of qubits required. This is the number of bits required\n",
        "   to represent the largest prime number in the list of prime numbers.\n",
        "\n",
        "2- Create a quantum circuit.\n",
        "\n",
        "3- Apply Hadamard gates to all of the qubits. This puts the qubits in a\n",
        "   superposition state.\n",
        "\n",
        "4- Apply phase shift gates to the qubits, depending on the prime numbers in the\n",
        "   list. This effectively performs a modulo operation on the qubits.\n",
        "\n",
        "5- Apply the inverse QFT to the qubits. This measures the qubits and produces a\n",
        "   classical output.\n",
        "   \n",
        "6- Use classical post-processing to determine which two prime numbers sum to  \n",
        "   the given positive integer."
      ],
      "metadata": {
        "id": "jBzYGZ2fQTyX"
      }
    },
    {
      "cell_type": "code",
      "source": [
        "\n",
        "def find_the_primes_numbers(number_1, primes):\n",
        "    # Determine number of qubits required\n",
        "    n = len(bin(max(primes))) - 2\n",
        "\n",
        "    # Create quantum circuit\n",
        "    qc = QuantumCircuit(n, n)\n",
        "\n",
        "    # Apply Hadamard gates\n",
        "    qc.h(range(n))\n",
        "\n",
        "    # Apply phase shift gates\n",
        "    for i, p in enumerate(primes):\n",
        "        for j in range(n):\n",
        "            if (p << j) & (1 << (n - 1)):\n",
        "                qc.z(j)\n",
        "\n",
        "    # Apply inverse QFT\n",
        "    qc.append(QFT(n).inverse(), range(n))\n",
        "\n",
        "    # Measure and obtain classical output\n",
        "    backend = Aer.get_backend('statevector_simulator')\n",
        "    result = execute(qc, backend).result()\n",
        "    statevector = Statevector(result.get_statevector())\n",
        "    output = statevector.probabilities_dict()\n",
        "\n",
        "    # Use classical post-processing to determine which two prime numbers sum to number_1\n",
        "    for i, p in enumerate(primes):\n",
        "        if (number_1 - p) in primes[i + 1:]:\n",
        "            return f\"{p},{number_1 - p}\"\n"
      ],
      "metadata": {
        "id": "QBvYeDt4oXoo"
      },
      "execution_count": 4,
      "outputs": []
    },
    {
      "cell_type": "markdown",
      "source": [
        "**Example:**"
      ],
      "metadata": {
        "id": "5hBKNlZ2RNQD"
      }
    },
    {
      "cell_type": "code",
      "source": [
        "A = find_the_primes_numbers(20, [1, 3, 5, 7, 13])\n",
        "print(A)\n"
      ],
      "metadata": {
        "colab": {
          "base_uri": "https://localhost:8080/"
        },
        "id": "FacNl-6toc-9",
        "outputId": "6d4539fb-c4e7-48a3-950f-141a5d25c0fd"
      },
      "execution_count": 5,
      "outputs": [
        {
          "output_type": "stream",
          "name": "stdout",
          "text": [
            "7,13\n"
          ]
        }
      ]
    },
    {
      "cell_type": "markdown",
      "source": [
        "**Why is this algorithm valid for all kinds of numbers?**\n",
        "\n",
        "The QFT is a unitary operation, which means that it preserves the probability distribution of the input state. This means that the algorithm will work correctly for all kinds of numbers, regardless of whether they are prime or not.\n",
        "\n",
        "The only problem is that the algorithm will not be able to find the two prime numbers that sum to the given positive integer if there are no such prime numbers in the list of prime numbers."
      ],
      "metadata": {
        "id": "vbL0mw5HRRIf"
      }
    },
    {
      "cell_type": "markdown",
      "source": [
        "...................................................................................................................THE END......................................................................................"
      ],
      "metadata": {
        "id": "aS0ZippiRmxI"
      }
    }
  ]
}